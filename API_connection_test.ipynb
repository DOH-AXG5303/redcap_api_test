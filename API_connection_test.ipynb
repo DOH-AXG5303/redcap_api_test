{
 "cells": [
  {
   "cell_type": "code",
   "execution_count": 2,
   "id": "81f4b7b9-c2a3-45d7-94a1-19704c0ef876",
   "metadata": {},
   "outputs": [],
   "source": [
    "import pandas as pd\n",
    "import requests\n",
    "import redcap\n",
    "import io\n",
    "import json"
   ]
  },
  {
   "cell_type": "code",
   "execution_count": 3,
   "id": "6a861b5f-89cb-47da-a2ff-3f1f6035d4b8",
   "metadata": {},
   "outputs": [],
   "source": [
    "#synthetic dataset\n",
    "df_100 = pd.read_csv(\"100_records.csv\")\n",
    "df_1000 = pd.read_csv(\"1000_records.csv\")\n",
    "df_10000 = pd.read_csv(\"10000_records.csv\")\n",
    "df_100000 = pd.read_csv(\"100000_records.csv\")\n",
    "\n",
    "#making extra small dataframe\n",
    "df_10 = df_100.loc[0:10,:]\n",
    "\n",
    "#url/token variables\n",
    "qa_api_url = 'https://qa-redcap.doh.wa.gov/api/'\n",
    "qa2_api_url = 'https://qa2-redcap.doh.wa.gov/api/'\n",
    "dev_api_url = 'https://dev-redcap.doh.wa.gov/api/'\n",
    "\n",
    "qa_pid49 = \"E3AA37D0ABCE88084F15E574432361A7\"\n",
    "qa2_pid49 = \"C0774A18E04D357F3AC39D486BF3A963\"\n",
    "dev_pid49 = \"0DC809527FA916113C94EE0286CCC379\""
   ]
  },
  {
   "cell_type": "markdown",
   "id": "f658e7b8-bd14-46d5-916a-e101667a0e88",
   "metadata": {},
   "source": [
    "# QA Environment - EXPORT\n",
    "- Requests Library "
   ]
  },
  {
   "cell_type": "code",
   "execution_count": 4,
   "id": "0976284d-0b3c-41a0-8032-5805a16bc59e",
   "metadata": {},
   "outputs": [
    {
     "name": "stdout",
     "output_type": "stream",
     "text": [
      "<Response [200]>\n",
      "(977, 138)\n"
     ]
    }
   ],
   "source": [
    "#request form\n",
    "fields = {\n",
    "    'token': qa_pid49,\n",
    "    'content': 'record',\n",
    "    'format': 'csv',\n",
    "    'type': 'flat'}\n",
    "\n",
    "#submit request\n",
    "r = requests.post(qa_api_url, data=fields)\n",
    "print(r)\n",
    "\n",
    "df = pd.read_csv(io.StringIO(r.content.decode(\"utf-8\")), index_col=0)\n",
    "\n",
    "print(df.shape)"
   ]
  },
  {
   "cell_type": "markdown",
   "id": "9f03f021-7f93-4582-b2f4-e19662f2be03",
   "metadata": {},
   "source": [
    "# QA Environment - EXPORT\n",
    "- Pycap Library "
   ]
  },
  {
   "cell_type": "code",
   "execution_count": 5,
   "id": "6b0f0531-d084-482f-a5f2-2db036f64b93",
   "metadata": {},
   "outputs": [
    {
     "data": {
      "text/plain": [
       "(977, 132)"
      ]
     },
     "execution_count": 5,
     "metadata": {},
     "output_type": "execute_result"
    }
   ],
   "source": [
    "project = redcap.Project(qa_api_url, qa_pid49)\n",
    "df_qa_pid49 = project.export_records(format = \"df\")\n",
    "df_qa_pid49.shape"
   ]
  },
  {
   "cell_type": "markdown",
   "id": "72c45aa1-0cfa-486b-8f94-50364b0a9ce4",
   "metadata": {},
   "source": [
    "# QA Environment - IMPORT\n",
    "- Requests Library "
   ]
  },
  {
   "cell_type": "code",
   "execution_count": 6,
   "id": "0ebdd2f0-0d65-40fe-9add-f20d2d1dcdfe",
   "metadata": {},
   "outputs": [
    {
     "name": "stdout",
     "output_type": "stream",
     "text": [
      "[{\"study_id\": 1, \"first_name\": \"Boo\", \"last_name\": \"Yaa\"}]\n",
      "HTTP Status: 200\n",
      "{\"count\": 1}\n"
     ]
    }
   ],
   "source": [
    "# This finally worked\n",
    "record_x = {\n",
    "    'study_id': 1,\n",
    "    'first_name': 'Boo',\n",
    "    'last_name': 'Yaa'\n",
    "}\n",
    "\n",
    "data = json.dumps([record_x])\n",
    "\n",
    "print(data)\n",
    "\n",
    "fields = {\n",
    "    'token': qa_pid49,\n",
    "    'content': 'record',\n",
    "    'format': 'json',\n",
    "    'type': 'flat',\n",
    "    'data': data,\n",
    "    \"forceAutoNumber\": \"true\"\n",
    "}\n",
    "\n",
    "r = requests.post(qa_api_url, data=fields)\n",
    "print('HTTP Status: ' + str(r.status_code))\n",
    "print(r.text)"
   ]
  },
  {
   "cell_type": "markdown",
   "id": "1645fd09-5807-4e93-94b5-562ea2968036",
   "metadata": {},
   "source": [
    "# QA Environment - IMPORT\n",
    "- Pycap Library "
   ]
  },
  {
   "cell_type": "code",
   "execution_count": 7,
   "id": "25109af7-42f1-4557-938c-c44bb93d7cc6",
   "metadata": {},
   "outputs": [
    {
     "data": {
      "text/plain": [
       "{'count': 11}"
      ]
     },
     "execution_count": 7,
     "metadata": {},
     "output_type": "execute_result"
    }
   ],
   "source": [
    "project = redcap.Project(qa_api_url, qa_pid49)\n",
    "response = project.import_records(df_10, force_auto_number=True)\n",
    "response"
   ]
  },
  {
   "cell_type": "markdown",
   "id": "73bc0caf-8cfe-4200-8500-d8805063b0dc",
   "metadata": {},
   "source": [
    "# QA2 Environment - EXPORT\n",
    "- Requests Library "
   ]
  },
  {
   "cell_type": "code",
   "execution_count": 8,
   "id": "a9a43c30-21cd-4aee-8663-d48f9975139d",
   "metadata": {},
   "outputs": [
    {
     "name": "stdout",
     "output_type": "stream",
     "text": [
      "<Response [200]>\n",
      "(1026, 138)\n"
     ]
    }
   ],
   "source": [
    "#request form\n",
    "fields = {\n",
    "    'token': qa2_pid49,\n",
    "    'content': 'record',\n",
    "    'format': 'csv',\n",
    "    'type': 'flat'}\n",
    "\n",
    "#submit request\n",
    "r = requests.post(qa2_api_url, data=fields)\n",
    "print(r)\n",
    "\n",
    "df = pd.read_csv(io.StringIO(r.content.decode(\"utf-8\")), index_col=0)\n",
    "\n",
    "print(df.shape)"
   ]
  },
  {
   "cell_type": "markdown",
   "id": "3c1a1b57-794f-46fd-a8f4-aa1cfa8f8cb1",
   "metadata": {},
   "source": [
    "# QA2 Environment - EXPORT\n",
    "- Pycap Library "
   ]
  },
  {
   "cell_type": "code",
   "execution_count": 10,
   "id": "08f5fd54-444a-4ccd-b94c-ca2a0ed80ee3",
   "metadata": {},
   "outputs": [
    {
     "data": {
      "text/plain": [
       "(1026, 132)"
      ]
     },
     "execution_count": 10,
     "metadata": {},
     "output_type": "execute_result"
    }
   ],
   "source": [
    "project = redcap.Project(qa2_api_url, qa2_pid49)\n",
    "df_qa2_pid49 = project.export_records(format = \"df\")\n",
    "df_qa2_pid49.shape"
   ]
  },
  {
   "cell_type": "markdown",
   "id": "c13df1dd-477e-4efb-8ac7-e39033392fc9",
   "metadata": {},
   "source": [
    "# QA2 Environment - IMPORT\n",
    "- Requests Library "
   ]
  },
  {
   "cell_type": "code",
   "execution_count": 21,
   "id": "d812d79a-0eff-4a96-869f-a4b475033249",
   "metadata": {},
   "outputs": [
    {
     "name": "stdout",
     "output_type": "stream",
     "text": [
      "[{\"study_id\": 1, \"first_name\": \"Boo\", \"last_name\": \"Yaa\"}]\n",
      "HTTP Status: 200\n",
      "{\"count\": 1}\n"
     ]
    }
   ],
   "source": [
    "# This finally worked\n",
    "record_x = {\n",
    "    'study_id': 1,\n",
    "    'first_name': 'Boo',\n",
    "    'last_name': 'Yaa'\n",
    "}\n",
    "\n",
    "data = json.dumps([record_x])\n",
    "\n",
    "print(data)\n",
    "\n",
    "fields = {\n",
    "    'token': qa2_pid49,\n",
    "    'content': 'record',\n",
    "    'format': 'json',\n",
    "    'type': 'flat',\n",
    "    'data': data,\n",
    "    \"forceAutoNumber\": \"true\"\n",
    "}\n",
    "\n",
    "r = requests.post(qa2_api_url, data=fields)\n",
    "print('HTTP Status: ' + str(r.status_code))\n",
    "print(r.text)"
   ]
  },
  {
   "cell_type": "markdown",
   "id": "2f57d832-3211-428f-bd61-b37de4741cc8",
   "metadata": {},
   "source": [
    "# QA2 Environment - IMPORT\n",
    "- Pycap Library "
   ]
  },
  {
   "cell_type": "code",
   "execution_count": 22,
   "id": "fdb55389-0500-47e4-92c6-f20117df5cca",
   "metadata": {},
   "outputs": [
    {
     "data": {
      "text/plain": [
       "{'count': 11}"
      ]
     },
     "execution_count": 22,
     "metadata": {},
     "output_type": "execute_result"
    }
   ],
   "source": [
    "project = redcap.Project(qa2_api_url, qa2_pid49)\n",
    "response = project.import_records(df_10, force_auto_number=True)\n",
    "response"
   ]
  },
  {
   "cell_type": "markdown",
   "id": "424644f2-6e77-406e-80fc-07c52404fa78",
   "metadata": {},
   "source": [
    "# DEV Environment - EXPORT\n",
    "- Requests Library "
   ]
  },
  {
   "cell_type": "code",
   "execution_count": 23,
   "id": "d48f6251-8620-421b-b2df-03652990e254",
   "metadata": {},
   "outputs": [
    {
     "name": "stdout",
     "output_type": "stream",
     "text": [
      "<Response [200]>\n",
      "(201, 138)\n"
     ]
    }
   ],
   "source": [
    "#request form\n",
    "fields = {\n",
    "    'token': dev_pid49,\n",
    "    'content': 'record',\n",
    "    'format': 'csv',\n",
    "    'type': 'flat'}\n",
    "\n",
    "#submit request\n",
    "r = requests.post(dev_api_url, data=fields)\n",
    "print(r)\n",
    "\n",
    "df = pd.read_csv(io.StringIO(r.content.decode(\"utf-8\")), index_col=0)\n",
    "\n",
    "print(df.shape)"
   ]
  },
  {
   "cell_type": "markdown",
   "id": "5f841665-d5b9-4a68-b93f-81848c0ee134",
   "metadata": {},
   "source": [
    "# DEV Environment - EXPORT\n",
    "- Pycap Library "
   ]
  },
  {
   "cell_type": "code",
   "execution_count": 25,
   "id": "e98e010e-2088-419a-9426-e373360917e4",
   "metadata": {},
   "outputs": [
    {
     "data": {
      "text/plain": [
       "(201, 132)"
      ]
     },
     "execution_count": 25,
     "metadata": {},
     "output_type": "execute_result"
    }
   ],
   "source": [
    "project = redcap.Project(dev_api_url, dev_pid49)\n",
    "df_qa2_pid49 = project.export_records(format = \"df\")\n",
    "df_qa2_pid49.shape"
   ]
  },
  {
   "cell_type": "markdown",
   "id": "708b0571-ab8e-4e93-ae3d-a471c6bec502",
   "metadata": {},
   "source": [
    "# DEV Environment - IMPORT\n",
    "- Requests Library "
   ]
  },
  {
   "cell_type": "code",
   "execution_count": 26,
   "id": "ff9a9ae4-8552-4fb1-90ba-ab2eb18305c7",
   "metadata": {},
   "outputs": [
    {
     "name": "stdout",
     "output_type": "stream",
     "text": [
      "[{\"study_id\": 1, \"first_name\": \"Boo\", \"last_name\": \"Yaa\"}]\n",
      "HTTP Status: 200\n",
      "{\"count\": 1}\n"
     ]
    }
   ],
   "source": [
    "# This finally worked\n",
    "record_x = {\n",
    "    'study_id': 1,\n",
    "    'first_name': 'Boo',\n",
    "    'last_name': 'Yaa'\n",
    "}\n",
    "\n",
    "data = json.dumps([record_x])\n",
    "\n",
    "print(data)\n",
    "\n",
    "fields = {\n",
    "    'token': dev_pid49,\n",
    "    'content': 'record',\n",
    "    'format': 'json',\n",
    "    'type': 'flat',\n",
    "    'data': data,\n",
    "    \"forceAutoNumber\": \"true\"\n",
    "}\n",
    "\n",
    "r = requests.post(dev_api_url, data=fields)\n",
    "print('HTTP Status: ' + str(r.status_code))\n",
    "print(r.text)"
   ]
  },
  {
   "cell_type": "markdown",
   "id": "1d5ce496-b480-42fb-921e-5544d681a185",
   "metadata": {},
   "source": [
    "# DEV Environment - IMPORT\n",
    "- Pycap Library "
   ]
  },
  {
   "cell_type": "code",
   "execution_count": 27,
   "id": "e8a9779c-0951-4912-9067-7c8ad3492fd9",
   "metadata": {},
   "outputs": [
    {
     "data": {
      "text/plain": [
       "{'count': 11}"
      ]
     },
     "execution_count": 27,
     "metadata": {},
     "output_type": "execute_result"
    }
   ],
   "source": [
    "project = redcap.Project(dev_api_url, dev_pid49)\n",
    "response = project.import_records(df_10, force_auto_number=True)\n",
    "response"
   ]
  }
 ],
 "metadata": {
  "kernelspec": {
   "display_name": "Python [conda env:transform21] *",
   "language": "python",
   "name": "conda-env-transform21-py"
  },
  "language_info": {
   "codemirror_mode": {
    "name": "ipython",
    "version": 3
   },
   "file_extension": ".py",
   "mimetype": "text/x-python",
   "name": "python",
   "nbconvert_exporter": "python",
   "pygments_lexer": "ipython3",
   "version": "3.8.10"
  }
 },
 "nbformat": 4,
 "nbformat_minor": 5
}

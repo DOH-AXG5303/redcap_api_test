{
 "cells": [
  {
   "cell_type": "code",
   "execution_count": 1,
   "id": "4f00809c-28e7-4372-af48-decf88b9633d",
   "metadata": {},
   "outputs": [],
   "source": [
    "import pandas as pd\n",
    "import requests\n",
    "import redcap\n",
    "import io\n",
    "import json"
   ]
  },
  {
   "cell_type": "markdown",
   "id": "f9e77509-05c0-40c0-82dd-d9d02ac33a69",
   "metadata": {},
   "source": [
    "### import data into REDCap - QA environment"
   ]
  },
  {
   "cell_type": "code",
   "execution_count": 2,
   "id": "2d29713c-b278-4e60-85f2-fcdaa32fe066",
   "metadata": {},
   "outputs": [],
   "source": [
    "df_100 = pd.read_csv(\"100_records.csv\")\n",
    "df_1000 = pd.read_csv(\"1000_records.csv\")\n",
    "df_10000 = pd.read_csv(\"10000_records.csv\")\n",
    "df_100000 = pd.read_csv(\"100000_records.csv\")\n",
    "\n",
    "#making extra small dataframe\n",
    "df_10 = df_100.loc[0:10,:]"
   ]
  },
  {
   "cell_type": "code",
   "execution_count": 3,
   "id": "11ee4c5b-0a28-40b0-8f4b-44a237b20187",
   "metadata": {},
   "outputs": [],
   "source": [
    "qa_api_url = 'https://qa-redcap.doh.wa.gov/api/'\n",
    "qa2_api_url = 'https://qa2-redcap.doh.wa.gov/api/'\n",
    "\n",
    "qa_pid49 = \"E3AA37D0ABCE88084F15E574432361A7\"\n",
    "qa2_pid49 = \"EED20697ED77ADBEDC3E2392F802C23C\"\n"
   ]
  },
  {
   "cell_type": "markdown",
   "id": "d89ab192-35f9-4814-9478-e8083bd5d2c7",
   "metadata": {},
   "source": [
    "#### import into QA - 10 records"
   ]
  },
  {
   "cell_type": "code",
   "execution_count": 4,
   "id": "ad59248d-9313-4cf2-9518-3e1854311e94",
   "metadata": {},
   "outputs": [],
   "source": [
    "project = redcap.Project(qa_api_url, qa_pid49)"
   ]
  },
  {
   "cell_type": "code",
   "execution_count": 5,
   "id": "6c177d7d-1189-4624-9de9-db1a8f8dc208",
   "metadata": {},
   "outputs": [
    {
     "name": "stdout",
     "output_type": "stream",
     "text": [
      "Wall time: 7.49 s\n"
     ]
    },
    {
     "data": {
      "text/plain": [
       "{'count': 11}"
      ]
     },
     "execution_count": 5,
     "metadata": {},
     "output_type": "execute_result"
    }
   ],
   "source": [
    "%%time\n",
    "response = project.import_records(df_10, force_auto_number=True)\n",
    "response"
   ]
  },
  {
   "cell_type": "markdown",
   "id": "c5700551-2b3a-4653-989a-89be66e8eb8a",
   "metadata": {
    "tags": []
   },
   "source": [
    "#### import into QA - 100 records"
   ]
  },
  {
   "cell_type": "code",
   "execution_count": null,
   "id": "abc3363f-cdb8-4806-b96f-46cf658fcdbc",
   "metadata": {},
   "outputs": [],
   "source": [
    "%%time\n",
    "response = project.import_records(df_100, force_auto_number=True)\n",
    "response"
   ]
  },
  {
   "cell_type": "markdown",
   "id": "354e221a-08f4-44cd-9789-95cde1b89d29",
   "metadata": {},
   "source": [
    "### import data into REDCap - QA2 environment"
   ]
  },
  {
   "cell_type": "markdown",
   "id": "5057953b-e644-41df-8d5e-8d57031bc8b2",
   "metadata": {},
   "source": [
    "#### import into QA - 10 records"
   ]
  },
  {
   "cell_type": "code",
   "execution_count": 6,
   "id": "42f0dd7e-fd43-46e5-b339-5cf86bac5ec4",
   "metadata": {},
   "outputs": [],
   "source": [
    "project = redcap.Project(qa2_api_url, qa2_pid49)"
   ]
  },
  {
   "cell_type": "code",
   "execution_count": 20,
   "id": "e482e8dc-ef51-42dd-9fd8-00bf4f5dd4b3",
   "metadata": {},
   "outputs": [
    {
     "name": "stdout",
     "output_type": "stream",
     "text": [
      "Wall time: 78.2 ms\n"
     ]
    },
    {
     "data": {
      "text/plain": [
       "{}"
      ]
     },
     "execution_count": 20,
     "metadata": {},
     "output_type": "execute_result"
    }
   ],
   "source": [
    "%%time\n",
    "response = project.import_records(df_10, force_auto_number=True)\n",
    "response"
   ]
  },
  {
   "cell_type": "markdown",
   "id": "a341a03a-8450-4777-bc35-e7f1988b1390",
   "metadata": {},
   "source": [
    "#### import into QA - 100 records"
   ]
  },
  {
   "cell_type": "code",
   "execution_count": null,
   "id": "cd5e9268-c9c3-4457-9380-2090f8692399",
   "metadata": {},
   "outputs": [],
   "source": [
    "%%time\n",
    "response = project.import_records(df_100, force_auto_number=True)\n",
    "response"
   ]
  },
  {
   "cell_type": "markdown",
   "id": "a41e9d6d-1f08-4982-932b-12b368e2b276",
   "metadata": {},
   "source": [
    "#### import into QA - 1000 records"
   ]
  },
  {
   "cell_type": "code",
   "execution_count": null,
   "id": "335c9ab5-0a4a-4763-91a0-e1b06f721dca",
   "metadata": {},
   "outputs": [],
   "source": [
    "%%time\n",
    "response = project.import_records(df_1000, force_auto_number=True)\n",
    "response"
   ]
  },
  {
   "cell_type": "code",
   "execution_count": null,
   "id": "197f7f74-1cb7-45f1-a4b3-969ae11338f6",
   "metadata": {},
   "outputs": [],
   "source": [
    "%%time\n",
    "response = project.import_records(df_10000, force_auto_number=True)\n",
    "response"
   ]
  },
  {
   "cell_type": "markdown",
   "id": "af8bc028-065d-4550-a85f-9ec7d498bdfa",
   "metadata": {},
   "source": [
    "# Attempt to troubleshoot QA2 API import/export"
   ]
  },
  {
   "cell_type": "markdown",
   "id": "63050793-0630-4e70-ab58-5352e92ae2e8",
   "metadata": {},
   "source": [
    "### exporting data from QA2 (iaas) using native API\n",
    " - this works fine (as long as on VPN)"
   ]
  },
  {
   "cell_type": "code",
   "execution_count": 21,
   "id": "8a4d9761-74a1-4d4f-8ecc-8d20cef81307",
   "metadata": {},
   "outputs": [
    {
     "name": "stdout",
     "output_type": "stream",
     "text": [
      "<Response [200]>\n",
      "(908, 138)\n"
     ]
    }
   ],
   "source": [
    "qa2_api_url = 'https://qa2-redcap.doh.wa.gov/api/'\n",
    "qa2_pid49 = \"EED20697ED77ADBEDC3E2392F802C23C\"\n",
    "\n",
    "#request form\n",
    "fields = {\n",
    "    'token': qa2_pid49,\n",
    "    'content': 'record',\n",
    "    'format': 'csv',\n",
    "    'type': 'flat'}\n",
    "\n",
    "#submit request\n",
    "r = requests.post(qa2_api_url, data=fields)\n",
    "print(r)\n",
    "\n",
    "df = pd.read_csv(io.StringIO(r.content.decode(\"utf-8\")), index_col=0)\n",
    "\n",
    "print(df.shape)"
   ]
  },
  {
   "cell_type": "markdown",
   "id": "f22247fe-f66e-4e4c-bed9-1fb5606a047d",
   "metadata": {},
   "source": [
    "### exporting data from QA1 (paas) using native API\n",
    "  - this works fine"
   ]
  },
  {
   "cell_type": "code",
   "execution_count": 22,
   "id": "773bcf18-a030-4292-a131-71ad5e188c3c",
   "metadata": {},
   "outputs": [
    {
     "name": "stdout",
     "output_type": "stream",
     "text": [
      "<Response [403]>\n",
      "(0, 0)\n"
     ]
    }
   ],
   "source": [
    "qa2_api_url = 'https://qa-redcap.doh.wa.gov/api/'\n",
    "qa2_pid49 = \"EED20697ED77ADBEDC3E2392F802C23C\"\n",
    "\n",
    "#request form\n",
    "fields = {\n",
    "    'token': qa2_pid49,\n",
    "    'content': 'record',\n",
    "    'format': 'csv',\n",
    "    'type': 'flat'}\n",
    "\n",
    "#submit request\n",
    "r = requests.post(qa2_api_url, data=fields)\n",
    "print(r)\n",
    "\n",
    "df = pd.read_csv(io.StringIO(r.content.decode(\"utf-8\")), index_col=0)\n",
    "\n",
    "print(df.shape)"
   ]
  },
  {
   "cell_type": "markdown",
   "id": "a115faa9-1c64-4b2b-8cf2-6e265361b747",
   "metadata": {},
   "source": [
    "### import using pycap into QA2 (iaas)\n",
    " - this does NOT work!!!"
   ]
  },
  {
   "cell_type": "code",
   "execution_count": null,
   "id": "693b21e7-8b61-492e-980f-23ccc84ae692",
   "metadata": {},
   "outputs": [],
   "source": [
    "df_100 = pd.read_csv(\"100_records.csv\")\n",
    "df_10 = df_100.loc[0:10,:]"
   ]
  },
  {
   "cell_type": "code",
   "execution_count": null,
   "id": "14bb5949-256f-4c34-9bce-b171e3185d89",
   "metadata": {},
   "outputs": [],
   "source": [
    "qa2_api_url = 'https://qa2-redcap.doh.wa.gov/api/'\n",
    "qa2_pid49 = \"C601824C7A222588EC7F6D367BCF55C5\"\n",
    "\n",
    "import redcap\n",
    "project = redcap.Project(qa2_api_url, qa2_pid49)\n",
    "\n",
    "response = project.import_records(df_10, force_auto_number=True)\n",
    "response"
   ]
  },
  {
   "cell_type": "markdown",
   "id": "414d7863-73f0-4eac-9453-2bd8985f2857",
   "metadata": {},
   "source": [
    "### export using pycap from QA2 (iaas)\n",
    " - this works just fine, WTF?!?!"
   ]
  },
  {
   "cell_type": "code",
   "execution_count": null,
   "id": "1a8cf13c-d55f-46ca-a302-46c422ba2500",
   "metadata": {},
   "outputs": [],
   "source": [
    "import redcap\n",
    "project = redcap.Project(qa2_api_url, qa2_pid49)\n",
    "x = project.export_records(format = \"df\")\n",
    "\n",
    "print(x.shape)"
   ]
  },
  {
   "cell_type": "markdown",
   "id": "4dbce4fb-cf17-43a4-a06e-1502a81233a9",
   "metadata": {},
   "source": [
    "### import using pycap into QA1 (paas)\n",
    "- This works just fine, WTF?!?!"
   ]
  },
  {
   "cell_type": "code",
   "execution_count": null,
   "id": "3c0c27c4-3c71-4d36-8b5d-9672e261d339",
   "metadata": {},
   "outputs": [],
   "source": [
    "qa_api_url = 'https://qa-redcap.doh.wa.gov/api/'\n",
    "qa_pid49 = \"C601824C7A222588EC7F6D367BCF55C5\"\n",
    "\n",
    "import redcap\n",
    "project = redcap.Project(qa_api_url, qa_pid49)\n",
    "response = project.import_records(df_10, force_auto_number=True)\n",
    "\n",
    "response\n"
   ]
  },
  {
   "cell_type": "markdown",
   "id": "cd028617-ede3-484d-b87e-9cee4c9e7783",
   "metadata": {},
   "source": [
    "### import using native API into QA1 (paas)\n"
   ]
  },
  {
   "cell_type": "code",
   "execution_count": null,
   "id": "6260df43-70e1-4c99-a740-f8ade7550c89",
   "metadata": {},
   "outputs": [],
   "source": [
    "record = df_10.loc[[0],:].to_csv()\n",
    "print(record)"
   ]
  },
  {
   "cell_type": "code",
   "execution_count": null,
   "id": "8942a25e-1851-4bfa-8f47-5fc0252af4bd",
   "metadata": {},
   "outputs": [],
   "source": [
    "# This finally worked\n",
    "\n",
    "record_x = {\n",
    "    'study_id': 1,\n",
    "    'first_name': 'Boo',\n",
    "    'last_name': 'Yaa'\n",
    "}\n",
    "\n",
    "\n",
    "data = json.dumps([record_x])\n",
    "\n",
    "print(data)\n",
    "\n",
    "\n",
    "qa_api_url = 'https://qa2-redcap.doh.wa.gov/api/'\n",
    "qa_pid49 = \"E3AA37D0ABCE88084F15E574432361A7\"\n",
    "\n",
    "fields = {\n",
    "    'token': qa_pid49,\n",
    "    'content': 'record',\n",
    "    'format': 'json',\n",
    "    'type': 'flat',\n",
    "    'data': data,\n",
    "    \"forceAutoNumber\": \"true\"\n",
    "}\n",
    "\n",
    "import requests\n",
    "r = requests.post(qa_api_url, data=fields)\n",
    "print('HTTP Status: ' + str(r.status_code))\n",
    "print(r.text)"
   ]
  },
  {
   "cell_type": "markdown",
   "id": "a958a71f-d8fb-4c2c-87e9-8a00b3788b88",
   "metadata": {},
   "source": [
    "# Appendix"
   ]
  },
  {
   "cell_type": "markdown",
   "id": "ab9523a8-01ab-4f95-a455-dd49a73887d1",
   "metadata": {},
   "source": [
    "#### testing export json and csv formats"
   ]
  },
  {
   "cell_type": "code",
   "execution_count": null,
   "id": "e330b33b-4cef-4dbe-ab59-33d47023e28a",
   "metadata": {},
   "outputs": [],
   "source": [
    "qa2_api_url = 'https://qa-redcap.doh.wa.gov/api/'\n",
    "qa2_pid49 = \"E3AA37D0ABCE88084F15E574432361A7\"\n",
    "\n",
    "#request form\n",
    "fields = {\n",
    "    'token': qa2_pid49,\n",
    "    'content': 'record',\n",
    "    'format': 'json',\n",
    "    'type': 'flat'}\n",
    "\n",
    "#submit request\n",
    "r = requests.post(qa2_api_url, data=fields)\n",
    "print(r)\n",
    "\n",
    "#df = pd.read_csv(io.StringIO(r.content.decode(\"utf-8\")), index_col=0)\n",
    "\n",
    "print(df.shape)"
   ]
  },
  {
   "cell_type": "code",
   "execution_count": null,
   "id": "be895f72-fc76-4075-ae54-1bec06ddf9de",
   "metadata": {},
   "outputs": [],
   "source": []
  }
 ],
 "metadata": {
  "kernelspec": {
   "display_name": "Python [conda env:transform21] *",
   "language": "python",
   "name": "conda-env-transform21-py"
  },
  "language_info": {
   "codemirror_mode": {
    "name": "ipython",
    "version": 3
   },
   "file_extension": ".py",
   "mimetype": "text/x-python",
   "name": "python",
   "nbconvert_exporter": "python",
   "pygments_lexer": "ipython3",
   "version": "3.8.10"
  }
 },
 "nbformat": 4,
 "nbformat_minor": 5
}

{
 "cells": [
  {
   "cell_type": "code",
   "execution_count": 1,
   "id": "4f00809c-28e7-4372-af48-decf88b9633d",
   "metadata": {},
   "outputs": [],
   "source": [
    "import pandas as pd\n",
    "import requests\n",
    "import redcap\n",
    "import io\n",
    "import json"
   ]
  },
  {
   "cell_type": "markdown",
   "id": "f9e77509-05c0-40c0-82dd-d9d02ac33a69",
   "metadata": {},
   "source": [
    "### Synthetic datasets and url/token variables"
   ]
  },
  {
   "cell_type": "code",
   "execution_count": 4,
   "id": "2d29713c-b278-4e60-85f2-fcdaa32fe066",
   "metadata": {},
   "outputs": [],
   "source": [
    "df_100 = pd.read_csv(\"100_records.csv\")\n",
    "df_1000 = pd.read_csv(\"1000_records.csv\")\n",
    "df_10000 = pd.read_csv(\"10000_records.csv\")\n",
    "df_100000 = pd.read_csv(\"100000_records.csv\")\n",
    "\n",
    "#making extra small dataframe\n",
    "df_10 = df_100.loc[0:10,:]\n",
    "\n",
    "qa_api_url = 'https://qa-redcap.doh.wa.gov/api/'\n",
    "qa2_api_url = 'https://qa2-redcap.doh.wa.gov/api/'\n",
    "dev_api_url = 'https://dev-redcap.doh.wa.gov/api/'\n",
    "\n",
    "qa_pid49 = \"E3AA37D0ABCE88084F15E574432361A7\"\n",
    "qa2_pid49 = \"C0774A18E04D357F3AC39D486BF3A963\"\n",
    "dev_pid49 = \"0DC809527FA916113C94EE0286CCC379\"\n"
   ]
  },
  {
   "cell_type": "markdown",
   "id": "817d0266-1150-405f-af2f-01233e127a70",
   "metadata": {},
   "source": [
    "# QA Environment"
   ]
  },
  {
   "cell_type": "markdown",
   "id": "d89ab192-35f9-4814-9478-e8083bd5d2c7",
   "metadata": {},
   "source": [
    "#### import  10 records"
   ]
  },
  {
   "cell_type": "code",
   "execution_count": 5,
   "id": "ad59248d-9313-4cf2-9518-3e1854311e94",
   "metadata": {},
   "outputs": [],
   "source": [
    "project = redcap.Project(qa_api_url, qa_pid49)"
   ]
  },
  {
   "cell_type": "code",
   "execution_count": 6,
   "id": "6c177d7d-1189-4624-9de9-db1a8f8dc208",
   "metadata": {},
   "outputs": [
    {
     "name": "stdout",
     "output_type": "stream",
     "text": [
      "Wall time: 13.1 s\n"
     ]
    },
    {
     "data": {
      "text/plain": [
       "{'count': 11}"
      ]
     },
     "execution_count": 6,
     "metadata": {},
     "output_type": "execute_result"
    }
   ],
   "source": [
    "%%time\n",
    "response = project.import_records(df_10, force_auto_number=True)\n",
    "response"
   ]
  },
  {
   "cell_type": "markdown",
   "id": "c5700551-2b3a-4653-989a-89be66e8eb8a",
   "metadata": {
    "tags": []
   },
   "source": [
    "#### import 100 records"
   ]
  },
  {
   "cell_type": "code",
   "execution_count": null,
   "id": "abc3363f-cdb8-4806-b96f-46cf658fcdbc",
   "metadata": {},
   "outputs": [],
   "source": [
    "%%time\n",
    "response = project.import_records(df_100, force_auto_number=True)\n",
    "response"
   ]
  },
  {
   "cell_type": "markdown",
   "id": "354e221a-08f4-44cd-9789-95cde1b89d29",
   "metadata": {},
   "source": [
    "# QA2 Environment"
   ]
  },
  {
   "cell_type": "markdown",
   "id": "5057953b-e644-41df-8d5e-8d57031bc8b2",
   "metadata": {},
   "source": [
    "#### import 10 records"
   ]
  },
  {
   "cell_type": "code",
   "execution_count": 7,
   "id": "42f0dd7e-fd43-46e5-b339-5cf86bac5ec4",
   "metadata": {},
   "outputs": [],
   "source": [
    "project = redcap.Project(qa2_api_url, qa2_pid49)"
   ]
  },
  {
   "cell_type": "code",
   "execution_count": 8,
   "id": "e482e8dc-ef51-42dd-9fd8-00bf4f5dd4b3",
   "metadata": {},
   "outputs": [
    {
     "name": "stdout",
     "output_type": "stream",
     "text": [
      "Wall time: 28.9 s\n"
     ]
    },
    {
     "data": {
      "text/plain": [
       "{'count': 11}"
      ]
     },
     "execution_count": 8,
     "metadata": {},
     "output_type": "execute_result"
    }
   ],
   "source": [
    "%%time\n",
    "response = project.import_records(df_10, force_auto_number=True)\n",
    "response"
   ]
  },
  {
   "cell_type": "markdown",
   "id": "a341a03a-8450-4777-bc35-e7f1988b1390",
   "metadata": {},
   "source": [
    "#### import 100 records"
   ]
  },
  {
   "cell_type": "code",
   "execution_count": null,
   "id": "cd5e9268-c9c3-4457-9380-2090f8692399",
   "metadata": {},
   "outputs": [],
   "source": [
    "%%time\n",
    "response = project.import_records(df_100, force_auto_number=True)\n",
    "response"
   ]
  },
  {
   "cell_type": "markdown",
   "id": "db2e14ef-1329-48c3-9279-53b3445830a7",
   "metadata": {},
   "source": [
    "# DEV Environment"
   ]
  },
  {
   "cell_type": "markdown",
   "id": "fbc6d9ea-e858-42c0-bd37-e647aa62d9d7",
   "metadata": {},
   "source": [
    "#### import 10 records"
   ]
  },
  {
   "cell_type": "code",
   "execution_count": 9,
   "id": "37df3d72-5066-43e7-872d-bf24f8dd7020",
   "metadata": {},
   "outputs": [],
   "source": [
    "project = redcap.Project(dev_api_url, dev_pid49)"
   ]
  },
  {
   "cell_type": "code",
   "execution_count": null,
   "id": "7831331c-107d-408e-be17-e5aa5d1e96c1",
   "metadata": {},
   "outputs": [],
   "source": [
    "%%time\n",
    "response = project.import_records(df_10, force_auto_number=True)\n",
    "response"
   ]
  },
  {
   "cell_type": "markdown",
   "id": "2b766afc-7c63-443e-84af-9f3fae2583c9",
   "metadata": {},
   "source": [
    "#### import 100 records"
   ]
  },
  {
   "cell_type": "code",
   "execution_count": null,
   "id": "57677549-772b-4180-991a-6453a22840cf",
   "metadata": {},
   "outputs": [],
   "source": [
    "%%time\n",
    "response = project.import_records(df_100, force_auto_number=True)\n",
    "response"
   ]
  }
 ],
 "metadata": {
  "kernelspec": {
   "display_name": "Python [conda env:transform21] *",
   "language": "python",
   "name": "conda-env-transform21-py"
  },
  "language_info": {
   "codemirror_mode": {
    "name": "ipython",
    "version": 3
   },
   "file_extension": ".py",
   "mimetype": "text/x-python",
   "name": "python",
   "nbconvert_exporter": "python",
   "pygments_lexer": "ipython3",
   "version": "3.8.10"
  }
 },
 "nbformat": 4,
 "nbformat_minor": 5
}

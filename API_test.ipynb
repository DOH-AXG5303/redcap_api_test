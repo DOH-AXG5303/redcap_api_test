{
 "cells": [
  {
   "cell_type": "code",
   "execution_count": 1,
   "id": "0357f163-3f35-49b2-b47c-127a0800b7c6",
   "metadata": {},
   "outputs": [],
   "source": [
    "import requests\n",
    "import pandas as pd\n",
    "import io"
   ]
  },
  {
   "cell_type": "code",
   "execution_count": 2,
   "id": "3b1b745d-976d-4975-84dd-555a21e32f2a",
   "metadata": {},
   "outputs": [],
   "source": [
    "%run -i \"C:/AXG5303_Repos/wastewater_covid_surveillance/viral_lims_export.py\""
   ]
  },
  {
   "cell_type": "code",
   "execution_count": 3,
   "id": "c705000e-21a8-45b5-8bb3-1149ac9c6590",
   "metadata": {},
   "outputs": [],
   "source": [
    "qa_api_url = 'https://qa-redcap.doh.wa.gov/api/'\n",
    "qa2_api_url = 'https://qa2-redcap.doh.wa.gov/api/'\n",
    "\n",
    "qa_pid49 = \"C601824C7A222588EC7F6D367BCF55C5\"\n",
    "qa2_pid49 = \"C601824C7A222588EC7F6D367BCF55C5\"\n",
    "\n",
    "\n",
    "df_qa = redcap_API_export(qa_api_url, qa_pid49)\n",
    "df_qa2 = redcap_API_export(qa2_api_url, qa2_pid49)"
   ]
  },
  {
   "cell_type": "code",
   "execution_count": 4,
   "id": "073c9e81-b65f-44b3-b6ca-d731e99e4816",
   "metadata": {},
   "outputs": [],
   "source": [
    "df_meta_qa = redcap_metadata_export(qa_api_url, qa_pid49)\n",
    "df_meta_qa2 = redcap_metadata_export(qa2_api_url, qa2_pid49)\n",
    "\n",
    "#need to drop \"sepcify_mood\" because it is a selection, not int:value pairs, drop avoids errors, ill just ignore this column\n",
    "df_meta_qa.drop(index = 'specify_mood', inplace =True)\n",
    "df_meta_qa2.drop(index = 'specify_mood', inplace =True)"
   ]
  },
  {
   "cell_type": "code",
   "execution_count": 5,
   "id": "e216017a-67b3-4333-873e-5af852335fa1",
   "metadata": {},
   "outputs": [],
   "source": [
    "date = date_time_redcap_fields(df_meta_qa)\n",
    "date2 = date_time_redcap_fields(df_meta_qa2)"
   ]
  },
  {
   "cell_type": "code",
   "execution_count": 6,
   "id": "ca31b42c-7952-45da-9fda-eb518991f1e5",
   "metadata": {},
   "outputs": [],
   "source": [
    "qa_restricted = accepted_redcap_fields(df_meta_qa)\n",
    "qa2_restricted = accepted_redcap_fields(df_meta_qa2)"
   ]
  },
  {
   "cell_type": "code",
   "execution_count": 7,
   "id": "73807486-1a7a-44e7-b8bb-14f6a7eba5ef",
   "metadata": {},
   "outputs": [
    {
     "data": {
      "text/plain": [
       "Index(['study_id', 'date_enrolled', 'first_name', 'last_name', 'telephone_1',\n",
       "       'email', 'dob', 'num_children', 'height', 'weight', 'date_visit_b',\n",
       "       'date_blood_b', 'alb_b', 'prealb_b', 'creat_b', 'npcr_b', 'chol_b',\n",
       "       'transferrin_b', 'kt_v_b', 'drywt_b', 'sga_b',\n",
       "       'date_supplement_dispensed', 'date_visit_1', 'alb_1', 'prealb_1',\n",
       "       'creat_1', 'npcr_1', 'chol_1', 'transferrin_1', 'kt_v_1', 'drywt_1',\n",
       "       'no_show_1', 'admission_date_1', 'discharge_date_1', 'date_death_1',\n",
       "       'date_visit_2', 'alb_2', 'prealb_2', 'creat_2', 'npcr_2', 'chol_2',\n",
       "       'transferrin_2', 'kt_v_2', 'drywt_2', 'no_show_2', 'admission_date_2',\n",
       "       'discharge_date_2', 'date_death_2', 'date_visit_3', 'date_blood_3',\n",
       "       'alb_3', 'prealb_3', 'creat_3', 'npcr_3', 'chol_3', 'transferrin_3',\n",
       "       'kt_v_3', 'drywt_3', 'sga_3', 'no_show_3', 'admission_date_3',\n",
       "       'discharge_date_3', 'date_death_3', 'withdraw_date',\n",
       "       'complete_study_date'],\n",
       "      dtype='object', name='field_name')"
      ]
     },
     "execution_count": 7,
     "metadata": {},
     "output_type": "execute_result"
    }
   ],
   "source": [
    "df_meta_qa[df_meta_qa[\"field_type\"] == \"text\"].index"
   ]
  },
  {
   "cell_type": "code",
   "execution_count": 8,
   "id": "5d3dedf5-7621-4d77-bd8f-3141c0c3d458",
   "metadata": {},
   "outputs": [],
   "source": [
    "#identify the possible input values to redcap fields\n",
    "redcap_keys = {}\n",
    "for key, value in qa_restricted.items():\n",
    "    redcap_keys[key] = [i for i in value.keys()]"
   ]
  },
  {
   "cell_type": "code",
   "execution_count": 9,
   "id": "42716d66-4350-4086-98e6-da14126a9048",
   "metadata": {},
   "outputs": [],
   "source": [
    "#removing the following fields - have issues with them down the road\n",
    "for i in ['aerobics', 'drink', 'eat', 'gym', 'meds']:\n",
    "    del redcap_keys[i]"
   ]
  },
  {
   "cell_type": "markdown",
   "id": "1b345c71-c34f-4af2-ba01-6cfb6e1d268b",
   "metadata": {},
   "source": [
    "# Creating synthetic data for selection columns of lengths: 100, 1000, 10000, 100000"
   ]
  },
  {
   "cell_type": "code",
   "execution_count": 10,
   "id": "e68d131b-f6b1-4268-bb24-55ce9aafe95d",
   "metadata": {},
   "outputs": [],
   "source": [
    "import random\n",
    "\n",
    "selection_columns_100 = {}\n",
    "\n",
    "for key, value in redcap_keys.items():\n",
    "    selection_columns_100[key] = random.choices(value, k = 100)"
   ]
  },
  {
   "cell_type": "code",
   "execution_count": 11,
   "id": "86fc76a4-0e6b-4075-bba0-5db28533962e",
   "metadata": {},
   "outputs": [],
   "source": [
    "selection_columns_1000 = {}\n",
    "\n",
    "for key, value in redcap_keys.items():\n",
    "    selection_columns_1000[key] = random.choices(value, k = 1000)\n"
   ]
  },
  {
   "cell_type": "code",
   "execution_count": 12,
   "id": "cc930a35-f30b-43e3-809e-74b5444225a5",
   "metadata": {},
   "outputs": [],
   "source": [
    "selection_columns_10000 = {}\n",
    "\n",
    "for key, value in redcap_keys.items():\n",
    "    selection_columns_10000[key] = random.choices(value, k = 10000)"
   ]
  },
  {
   "cell_type": "code",
   "execution_count": 13,
   "id": "fb45cb18-ae01-4c89-8ac0-e550a1eacbbf",
   "metadata": {},
   "outputs": [],
   "source": [
    "selection_columns_100000 = {}\n",
    "\n",
    "for key, value in redcap_keys.items():\n",
    "    selection_columns_100000[key] = random.choices(value, k = 100000)"
   ]
  },
  {
   "cell_type": "markdown",
   "id": "c4f5ecfb-39d1-4735-b0e3-3d79b074a179",
   "metadata": {},
   "source": [
    "# Creating synthetic data for date columns of lengths: 100, 1000, 10000, 100000"
   ]
  },
  {
   "cell_type": "code",
   "execution_count": 14,
   "id": "6309a02b-82d1-40b1-aa23-0006acdb8668",
   "metadata": {},
   "outputs": [],
   "source": [
    "#random date generator\n",
    "\n",
    "np.random.seed(0)\n",
    "start = pd.to_datetime('2000-01-01')\n",
    "end = pd.to_datetime('2022-01-01')\n",
    "\n",
    "def random_dates2(start, end, n, unit='D', seed=None):\n",
    "    if not seed:  # from piR's answer\n",
    "        np.random.seed(0)\n",
    "\n",
    "    ndays = (end - start).days + 1\n",
    "    return start + pd.to_timedelta(\n",
    "        np.random.randint(0, ndays, n), unit=unit\n",
    "    )\n"
   ]
  },
  {
   "cell_type": "code",
   "execution_count": 15,
   "id": "08953e0f-2c3f-4610-aad9-24f923e9d451",
   "metadata": {},
   "outputs": [],
   "source": [
    "date_dict100 = {} \n",
    "for i in date.index:\n",
    "    date_dict100[i] = random_dates2(start, end, 100)"
   ]
  },
  {
   "cell_type": "code",
   "execution_count": 16,
   "id": "e21b13ee-1a98-4f67-8bc5-08cbceadbe31",
   "metadata": {},
   "outputs": [],
   "source": [
    "date_dict1000 = {} \n",
    "for i in date.index:\n",
    "    date_dict1000[i] = random_dates2(start, end, 1000)"
   ]
  },
  {
   "cell_type": "code",
   "execution_count": 17,
   "id": "adf275ab-2814-416d-a19c-480f1d8dd53b",
   "metadata": {},
   "outputs": [],
   "source": [
    "date_dict10000 = {} \n",
    "for i in date.index:\n",
    "    date_dict10000[i] = random_dates2(start, end, 10000)"
   ]
  },
  {
   "cell_type": "code",
   "execution_count": 18,
   "id": "98db2118-709a-490c-b27b-b91553944ba4",
   "metadata": {},
   "outputs": [],
   "source": [
    "date_dict100000 = {} \n",
    "for i in date.index:\n",
    "    date_dict100000[i] = random_dates2(start, end, 100000)"
   ]
  },
  {
   "cell_type": "markdown",
   "id": "0fa23eea-5711-4ec7-9869-2c12ffd9e778",
   "metadata": {},
   "source": [
    "# Creating random string for remaining columns"
   ]
  },
  {
   "cell_type": "code",
   "execution_count": null,
   "id": "af78c92a-25bf-4cb5-956e-a9a322cc913f",
   "metadata": {},
   "outputs": [],
   "source": []
  },
  {
   "cell_type": "code",
   "execution_count": null,
   "id": "5c347080-ffbc-4fa8-bce7-751f4124ec24",
   "metadata": {},
   "outputs": [],
   "source": []
  },
  {
   "cell_type": "markdown",
   "id": "1a192d97-c7a8-4b41-9698-242dd9e80b1b",
   "metadata": {},
   "source": [
    "# attempt to import single row of dates and selection fields\n"
   ]
  },
  {
   "cell_type": "code",
   "execution_count": 19,
   "id": "7bb15c39-dffa-4c61-99f7-5e2a43885836",
   "metadata": {},
   "outputs": [
    {
     "data": {
      "text/html": [
       "<div>\n",
       "<style scoped>\n",
       "    .dataframe tbody tr th:only-of-type {\n",
       "        vertical-align: middle;\n",
       "    }\n",
       "\n",
       "    .dataframe tbody tr th {\n",
       "        vertical-align: top;\n",
       "    }\n",
       "\n",
       "    .dataframe thead th {\n",
       "        text-align: right;\n",
       "    }\n",
       "</style>\n",
       "<table border=\"1\" class=\"dataframe\">\n",
       "  <thead>\n",
       "    <tr style=\"text-align: right;\">\n",
       "      <th></th>\n",
       "      <th>date_enrolled</th>\n",
       "      <th>patient_document</th>\n",
       "      <th>first_name</th>\n",
       "      <th>last_name</th>\n",
       "      <th>address</th>\n",
       "      <th>telephone_1</th>\n",
       "      <th>email</th>\n",
       "      <th>dob</th>\n",
       "      <th>age</th>\n",
       "      <th>ethnicity</th>\n",
       "      <th>...</th>\n",
       "      <th>death_3</th>\n",
       "      <th>date_death_3</th>\n",
       "      <th>cause_death_3</th>\n",
       "      <th>month_3_data_complete</th>\n",
       "      <th>complete_study</th>\n",
       "      <th>withdraw_date</th>\n",
       "      <th>withdraw_reason</th>\n",
       "      <th>complete_study_date</th>\n",
       "      <th>study_comments</th>\n",
       "      <th>completion_data_complete</th>\n",
       "    </tr>\n",
       "    <tr>\n",
       "      <th>study_id</th>\n",
       "      <th></th>\n",
       "      <th></th>\n",
       "      <th></th>\n",
       "      <th></th>\n",
       "      <th></th>\n",
       "      <th></th>\n",
       "      <th></th>\n",
       "      <th></th>\n",
       "      <th></th>\n",
       "      <th></th>\n",
       "      <th></th>\n",
       "      <th></th>\n",
       "      <th></th>\n",
       "      <th></th>\n",
       "      <th></th>\n",
       "      <th></th>\n",
       "      <th></th>\n",
       "      <th></th>\n",
       "      <th></th>\n",
       "      <th></th>\n",
       "      <th></th>\n",
       "    </tr>\n",
       "  </thead>\n",
       "  <tbody>\n",
       "    <tr>\n",
       "      <th>1</th>\n",
       "      <td>2007-06-25</td>\n",
       "      <td>NaN</td>\n",
       "      <td>Alexey</td>\n",
       "      <td>Gilman</td>\n",
       "      <td>123 Fake street</td>\n",
       "      <td>NaN</td>\n",
       "      <td>NaN</td>\n",
       "      <td>2007-06-25</td>\n",
       "      <td>14</td>\n",
       "      <td>1</td>\n",
       "      <td>...</td>\n",
       "      <td>1.0</td>\n",
       "      <td>2007-06-25</td>\n",
       "      <td>1.0</td>\n",
       "      <td>0</td>\n",
       "      <td>1.0</td>\n",
       "      <td>2007-06-25</td>\n",
       "      <td>3.0</td>\n",
       "      <td>2007-06-25</td>\n",
       "      <td>NaN</td>\n",
       "      <td>0</td>\n",
       "    </tr>\n",
       "    <tr>\n",
       "      <th>2</th>\n",
       "      <td>2022-01-05</td>\n",
       "      <td>NaN</td>\n",
       "      <td>Alexey</td>\n",
       "      <td>Gilman</td>\n",
       "      <td>123 Fake street</td>\n",
       "      <td>NaN</td>\n",
       "      <td>NaN</td>\n",
       "      <td>2022-01-05</td>\n",
       "      <td>0</td>\n",
       "      <td>2</td>\n",
       "      <td>...</td>\n",
       "      <td>NaN</td>\n",
       "      <td>NaN</td>\n",
       "      <td>NaN</td>\n",
       "      <td>0</td>\n",
       "      <td>NaN</td>\n",
       "      <td>NaN</td>\n",
       "      <td>NaN</td>\n",
       "      <td>NaN</td>\n",
       "      <td>NaN</td>\n",
       "      <td>0</td>\n",
       "    </tr>\n",
       "  </tbody>\n",
       "</table>\n",
       "<p>2 rows × 138 columns</p>\n",
       "</div>"
      ],
      "text/plain": [
       "         date_enrolled  patient_document first_name last_name  \\\n",
       "study_id                                                        \n",
       "1           2007-06-25               NaN     Alexey    Gilman   \n",
       "2           2022-01-05               NaN     Alexey    Gilman   \n",
       "\n",
       "                  address  telephone_1  email         dob  age  ethnicity  \\\n",
       "study_id                                                                    \n",
       "1         123 Fake street          NaN    NaN  2007-06-25   14          1   \n",
       "2         123 Fake street          NaN    NaN  2022-01-05    0          2   \n",
       "\n",
       "          ...  death_3  date_death_3  cause_death_3  month_3_data_complete  \\\n",
       "study_id  ...                                                                \n",
       "1         ...      1.0    2007-06-25            1.0                      0   \n",
       "2         ...      NaN           NaN            NaN                      0   \n",
       "\n",
       "          complete_study  withdraw_date  withdraw_reason  complete_study_date  \\\n",
       "study_id                                                                        \n",
       "1                    1.0     2007-06-25              3.0           2007-06-25   \n",
       "2                    NaN            NaN              NaN                  NaN   \n",
       "\n",
       "          study_comments  completion_data_complete  \n",
       "study_id                                            \n",
       "1                    NaN                         0  \n",
       "2                    NaN                         0  \n",
       "\n",
       "[2 rows x 138 columns]"
      ]
     },
     "execution_count": 19,
     "metadata": {},
     "output_type": "execute_result"
    }
   ],
   "source": [
    "df_qa"
   ]
  },
  {
   "cell_type": "code",
   "execution_count": 20,
   "id": "ebd67fb1-3258-41ff-89bc-36a3d1a2ad78",
   "metadata": {},
   "outputs": [],
   "source": [
    "#adding selection fields\n",
    "df_selection = pd.DataFrame(selection_columns_100)\n",
    "df_qa.loc[1, df_selection.columns] = df_selection.loc[0,:]"
   ]
  },
  {
   "cell_type": "code",
   "execution_count": 21,
   "id": "468b6b62-e638-4c30-a74a-87eb01da19c5",
   "metadata": {},
   "outputs": [],
   "source": [
    "#adding date fields\n",
    "df_date = pd.DataFrame(date_dict100)\n",
    "\n",
    "#convert to redcap format\n",
    "for i in df_date:\n",
    "    df_date[i] =  df_date[i].dt.strftime('%Y-%m-%d')\n",
    "df_qa.loc[1, df_date.columns] = df_date.loc[0,:]"
   ]
  },
  {
   "cell_type": "code",
   "execution_count": 22,
   "id": "f2162791-cdb8-4019-8954-1c159f33316b",
   "metadata": {},
   "outputs": [],
   "source": [
    "remaining = set(df_qa.columns) - set(df_date.columns) - set(df_selection.columns)"
   ]
  },
  {
   "cell_type": "markdown",
   "id": "0df59f04-25c5-44df-8814-f76a18f6d6fe",
   "metadata": {},
   "source": [
    "#Nice attempt that did not work\n",
    "to_remove = []\n",
    "for i in remaining:\n",
    "    if re.match(r\"^eat\",i):\n",
    "        to_remove.append(i)\n",
    "        \n",
    "    if re.match(r\"^drink\",i):\n",
    "        to_remove.append(i)\n",
    "        \n",
    "    if re.match(r\"^aerobics\",i):\n",
    "        to_remove.append(i)\n",
    "        \n",
    "    if re.match(r\"^meds\",i):\n",
    "        to_remove.append(i)\n",
    "        \n",
    "    if re.match(r\"^gym\",i):\n",
    "        to_remove.append(i)\n",
    "        \n",
    "    if re.match(r\".*complete$\",i):\n",
    "        to_remove.append(i)\n",
    "        \n",
    "remaining = remaining - set(to_remove)\n",
    "\n",
    "text_dict = {i:\"abc\" for i in remaining}\n",
    "\n",
    "df_text = pd.DataFrame(text_dict, index = [0])\n",
    "\n",
    "df_qa.loc[1,df_text.columns] = df_text.loc[0,:]"
   ]
  },
  {
   "cell_type": "markdown",
   "id": "e1c1262e-e230-4a5e-bb7e-238cde39b7da",
   "metadata": {},
   "source": [
    "text_fields = ['study_id', 'date_enrolled', 'first_name', 'last_name', 'telephone_1',\n",
    "       'email', 'dob', 'num_children', 'height', 'weight', 'date_visit_b',\n",
    "       'date_blood_b', 'alb_b', 'prealb_b', 'creat_b', 'npcr_b', 'chol_b',\n",
    "       'transferrin_b', 'kt_v_b', 'drywt_b', 'sga_b',\n",
    "       'date_supplement_dispensed', 'date_visit_1', 'alb_1', 'prealb_1',\n",
    "       'creat_1', 'npcr_1', 'chol_1', 'transferrin_1', 'kt_v_1', 'drywt_1',\n",
    "       'no_show_1', 'admission_date_1', 'discharge_date_1', 'date_death_1',\n",
    "       'date_visit_2', 'alb_2', 'prealb_2', 'creat_2', 'npcr_2', 'chol_2',\n",
    "       'transferrin_2', 'kt_v_2', 'drywt_2', 'no_show_2', 'admission_date_2',\n",
    "       'discharge_date_2', 'date_death_2', 'date_visit_3', 'date_blood_3',\n",
    "       'alb_3', 'prealb_3', 'creat_3', 'npcr_3', 'chol_3', 'transferrin_3',\n",
    "       'kt_v_3', 'drywt_3', 'sga_3', 'no_show_3', 'admission_date_3',\n",
    "       'discharge_date_3', 'date_death_3', 'withdraw_date',\n",
    "       'complete_study_date']"
   ]
  },
  {
   "cell_type": "markdown",
   "id": "47ab6137-bc85-4aa2-ad18-9061550f2934",
   "metadata": {},
   "source": [
    "text2_dict = {i:\"abcdef\" for i in text_fields}\n",
    "df_text2 = pd.DataFrame(text2_dict, index = [0])\n",
    "\n",
    "df_qa.loc[1,df_text2.columns] = df_text2.loc[0,:]"
   ]
  },
  {
   "cell_type": "markdown",
   "id": "59ffcac2-35d5-4537-a3a1-2328104231a0",
   "metadata": {},
   "source": [
    "df_qa[\"study_id\"] = [1,2]\n",
    "\n",
    "df_qa"
   ]
  },
  {
   "cell_type": "code",
   "execution_count": 23,
   "id": "70e03271-36a7-4424-91c1-e93c7a2d0e70",
   "metadata": {},
   "outputs": [],
   "source": [
    "#Connecting to PID171\n",
    "import redcap\n",
    "project = redcap.Project(qa_api_url, qa_pid49)\n"
   ]
  },
  {
   "cell_type": "code",
   "execution_count": 24,
   "id": "94a50674-29ce-45bc-b924-699cff08a640",
   "metadata": {},
   "outputs": [
    {
     "data": {
      "text/plain": [
       "{'count': 2}"
      ]
     },
     "execution_count": 24,
     "metadata": {},
     "output_type": "execute_result"
    }
   ],
   "source": [
    "response = project.import_records(df_qa, force_auto_number=False)\n",
    "response"
   ]
  },
  {
   "cell_type": "code",
   "execution_count": null,
   "id": "6e137f39-2fd9-4de7-a595-8c9292ccd437",
   "metadata": {},
   "outputs": [],
   "source": []
  }
 ],
 "metadata": {
  "kernelspec": {
   "display_name": "Python [conda env:transform21] *",
   "language": "python",
   "name": "conda-env-transform21-py"
  },
  "language_info": {
   "codemirror_mode": {
    "name": "ipython",
    "version": 3
   },
   "file_extension": ".py",
   "mimetype": "text/x-python",
   "name": "python",
   "nbconvert_exporter": "python",
   "pygments_lexer": "ipython3",
   "version": "3.8.10"
  }
 },
 "nbformat": 4,
 "nbformat_minor": 5
}

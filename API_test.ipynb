{
 "cells": [
  {
   "cell_type": "code",
   "execution_count": 1,
   "id": "0357f163-3f35-49b2-b47c-127a0800b7c6",
   "metadata": {},
   "outputs": [],
   "source": [
    "import requests\n",
    "import pandas as pd\n",
    "import io"
   ]
  },
  {
   "cell_type": "code",
   "execution_count": 2,
   "id": "3b1b745d-976d-4975-84dd-555a21e32f2a",
   "metadata": {},
   "outputs": [],
   "source": [
    "%run -i \"C:/AXG5303_Repos/wastewater_covid_surveillance/viral_lims_export.py\""
   ]
  },
  {
   "cell_type": "code",
   "execution_count": 3,
   "id": "c705000e-21a8-45b5-8bb3-1149ac9c6590",
   "metadata": {},
   "outputs": [],
   "source": [
    "qa_api_url = 'https://qa-redcap.doh.wa.gov/api/'\n",
    "qa2_api_url = 'https://qa2-redcap.doh.wa.gov/api/'\n",
    "\n",
    "qa_pid49 = \"C601824C7A222588EC7F6D367BCF55C5\"\n",
    "qa2_pid49 = \"C601824C7A222588EC7F6D367BCF55C5\"\n",
    "\n",
    "\n",
    "df_qa = redcap_API_export(qa_api_url, qa_pid49)\n",
    "df_qa2 = redcap_API_export(qa2_api_url, qa2_pid49)"
   ]
  },
  {
   "cell_type": "code",
   "execution_count": 4,
   "id": "073c9e81-b65f-44b3-b6ca-d731e99e4816",
   "metadata": {},
   "outputs": [],
   "source": [
    "df_meta_qa = redcap_metadata_export(qa_api_url, qa_pid49)\n",
    "#df_meta_qa2 = redcap_metadata_export(qa2_api_url, qa2_pid49)\n",
    "\n",
    "#need to drop \"sepcify_mood\" because it is a selection, not int:value pairs, drop avoids errors, ill just ignore this column\n",
    "df_meta_qa.drop(index = 'specify_mood', inplace =True)\n",
    "#df_meta_qa2.drop(index = 'specify_mood', inplace =True)"
   ]
  },
  {
   "cell_type": "code",
   "execution_count": 5,
   "id": "e216017a-67b3-4333-873e-5af852335fa1",
   "metadata": {},
   "outputs": [],
   "source": [
    "date = date_time_redcap_fields(df_meta_qa)\n",
    "#date2 = date_time_redcap_fields(df_meta_qa2)"
   ]
  },
  {
   "cell_type": "code",
   "execution_count": 6,
   "id": "ca31b42c-7952-45da-9fda-eb518991f1e5",
   "metadata": {},
   "outputs": [],
   "source": [
    "qa_restricted = accepted_redcap_fields(df_meta_qa)\n",
    "#qa2_restricted = accepted_redcap_fields(df_meta_qa2)"
   ]
  },
  {
   "cell_type": "code",
   "execution_count": 7,
   "id": "5d3dedf5-7621-4d77-bd8f-3141c0c3d458",
   "metadata": {},
   "outputs": [],
   "source": [
    "#identify the possible input values to redcap fields\n",
    "redcap_keys = {}\n",
    "for key, value in qa_restricted.items():\n",
    "    redcap_keys[key] = [i for i in value.keys()]"
   ]
  },
  {
   "cell_type": "code",
   "execution_count": 8,
   "id": "42716d66-4350-4086-98e6-da14126a9048",
   "metadata": {},
   "outputs": [],
   "source": [
    "#removing the following fields - have issues with them down the road\n",
    "for i in ['aerobics', 'drink', 'eat', 'gym', 'meds']:\n",
    "    del redcap_keys[i]"
   ]
  },
  {
   "cell_type": "markdown",
   "id": "1b345c71-c34f-4af2-ba01-6cfb6e1d268b",
   "metadata": {},
   "source": [
    "# Creating synthetic data for selection columns of lengths: 100, 1000, 10000, 100000"
   ]
  },
  {
   "cell_type": "code",
   "execution_count": 9,
   "id": "e68d131b-f6b1-4268-bb24-55ce9aafe95d",
   "metadata": {},
   "outputs": [],
   "source": [
    "import random\n",
    "\n",
    "selection_columns_100 = {}\n",
    "\n",
    "for key, value in redcap_keys.items():\n",
    "    selection_columns_100[key] = random.choices(value, k = 100)"
   ]
  },
  {
   "cell_type": "code",
   "execution_count": 10,
   "id": "86fc76a4-0e6b-4075-bba0-5db28533962e",
   "metadata": {},
   "outputs": [],
   "source": [
    "selection_columns_1000 = {}\n",
    "\n",
    "for key, value in redcap_keys.items():\n",
    "    selection_columns_1000[key] = random.choices(value, k = 1000)\n"
   ]
  },
  {
   "cell_type": "code",
   "execution_count": 11,
   "id": "cc930a35-f30b-43e3-809e-74b5444225a5",
   "metadata": {},
   "outputs": [],
   "source": [
    "selection_columns_10000 = {}\n",
    "\n",
    "for key, value in redcap_keys.items():\n",
    "    selection_columns_10000[key] = random.choices(value, k = 10000)"
   ]
  },
  {
   "cell_type": "code",
   "execution_count": 12,
   "id": "fb45cb18-ae01-4c89-8ac0-e550a1eacbbf",
   "metadata": {},
   "outputs": [],
   "source": [
    "selection_columns_100000 = {}\n",
    "\n",
    "for key, value in redcap_keys.items():\n",
    "    selection_columns_100000[key] = random.choices(value, k = 100000)"
   ]
  },
  {
   "cell_type": "markdown",
   "id": "c4f5ecfb-39d1-4735-b0e3-3d79b074a179",
   "metadata": {},
   "source": [
    "# Creating synthetic data for date columns of lengths: 100, 1000, 10000, 100000"
   ]
  },
  {
   "cell_type": "code",
   "execution_count": 13,
   "id": "6309a02b-82d1-40b1-aa23-0006acdb8668",
   "metadata": {},
   "outputs": [],
   "source": [
    "#random date generator\n",
    "\n",
    "np.random.seed(0)\n",
    "start = pd.to_datetime('2000-01-01')\n",
    "end = pd.to_datetime('2022-01-01')\n",
    "\n",
    "def random_dates2(start, end, n, unit='D', seed=None):\n",
    "    if not seed:  # from piR's answer\n",
    "        np.random.seed(0)\n",
    "\n",
    "    ndays = (end - start).days + 1\n",
    "    return start + pd.to_timedelta(\n",
    "        np.random.randint(0, ndays, n), unit=unit\n",
    "    )\n"
   ]
  },
  {
   "cell_type": "code",
   "execution_count": 14,
   "id": "08953e0f-2c3f-4610-aad9-24f923e9d451",
   "metadata": {},
   "outputs": [],
   "source": [
    "date_dict100 = {} \n",
    "for i in date.index:\n",
    "    date_dict100[i] = random_dates2(start, end, 100)"
   ]
  },
  {
   "cell_type": "code",
   "execution_count": 15,
   "id": "e21b13ee-1a98-4f67-8bc5-08cbceadbe31",
   "metadata": {},
   "outputs": [],
   "source": [
    "date_dict1000 = {} \n",
    "for i in date.index:\n",
    "    date_dict1000[i] = random_dates2(start, end, 1000)"
   ]
  },
  {
   "cell_type": "code",
   "execution_count": 16,
   "id": "adf275ab-2814-416d-a19c-480f1d8dd53b",
   "metadata": {},
   "outputs": [],
   "source": [
    "date_dict10000 = {} \n",
    "for i in date.index:\n",
    "    date_dict10000[i] = random_dates2(start, end, 10000)"
   ]
  },
  {
   "cell_type": "code",
   "execution_count": 17,
   "id": "98db2118-709a-490c-b27b-b91553944ba4",
   "metadata": {},
   "outputs": [],
   "source": [
    "date_dict100000 = {} \n",
    "for i in date.index:\n",
    "    date_dict100000[i] = random_dates2(start, end, 100000)"
   ]
  },
  {
   "cell_type": "markdown",
   "id": "a5448cf1",
   "metadata": {},
   "source": [
    "# creating test files"
   ]
  },
  {
   "cell_type": "code",
   "execution_count": 18,
   "id": "cd398497",
   "metadata": {},
   "outputs": [],
   "source": [
    "df_date_100 = pd.DataFrame(date_dict100)\n",
    "df_selecrtion_100 = pd.DataFrame(selection_columns_100)\n",
    "\n",
    "df_100 = pd.concat([df_date_100, df_selecrtion_100], axis = 1)\n",
    "\n",
    "df_100[\"first_name\"] = \"justice\"\n",
    "df_100[\"last_name\"] = \"smith\"\n",
    "\n",
    "df_100.to_csv(\"100_records.csv\", index = False)"
   ]
  },
  {
   "cell_type": "code",
   "execution_count": null,
   "id": "12395809",
   "metadata": {},
   "outputs": [],
   "source": [
    "df_date_1000 = pd.DataFrame(date_dict1000)\n",
    "df_selecrtion_1000 = pd.DataFrame(selection_columns_1000)\n",
    "\n",
    "df_1000 = pd.concat([df_date_1000, df_selecrtion_1000], axis = 1)\n",
    "\n",
    "df_1000[\"first_name\"] = \"justice\"\n",
    "df_1000[\"last_name\"] = \"smith\"\n",
    "\n",
    "df_1000.to_csv(\"1000_records.csv\", index = False)"
   ]
  },
  {
   "cell_type": "code",
   "execution_count": null,
   "id": "dc71d2a9-d181-48f7-9c1c-e1fa3c810172",
   "metadata": {},
   "outputs": [],
   "source": [
    "df_date_10000 = pd.DataFrame(date_dict10000)\n",
    "df_selecrtion_10000 = pd.DataFrame(selection_columns_10000)\n",
    "\n",
    "df_10000 = pd.concat([df_date_10000, df_selecrtion_10000], axis = 1)\n",
    "\n",
    "df_10000[\"first_name\"] = \"justice\"\n",
    "df_10000[\"last_name\"] = \"smith\"\n",
    "\n",
    "df_10000.to_csv(\"10000_records.csv\", index = False)"
   ]
  },
  {
   "cell_type": "code",
   "execution_count": null,
   "id": "939c9a8e-782a-4462-a161-feff104d84ad",
   "metadata": {},
   "outputs": [],
   "source": [
    "df_date_100000 = pd.DataFrame(date_dict100000)\n",
    "df_selecrtion_100000 = pd.DataFrame(selection_columns_100000)\n",
    "\n",
    "df_100000 = pd.concat([df_date_100000, df_selecrtion_100000], axis = 1)\n",
    "\n",
    "df_100000[\"first_name\"] = \"justice\"\n",
    "df_100000[\"last_name\"] = \"smith\"\n",
    "\n",
    "df_100000.to_csv(\"100000_records.csv\", index = False)"
   ]
  },
  {
   "cell_type": "code",
   "execution_count": null,
   "id": "bd63f4fb-6630-4803-9ed3-00faa7745b29",
   "metadata": {},
   "outputs": [],
   "source": []
  },
  {
   "cell_type": "code",
   "execution_count": 23,
   "id": "e52fd09b-8fd3-4b5b-8a79-188280c6c7ea",
   "metadata": {},
   "outputs": [],
   "source": [
    "df_10 = df_100.iloc[0:10,:].copy()"
   ]
  },
  {
   "cell_type": "code",
   "execution_count": 37,
   "id": "6ec9ee0a-09e6-41c8-a1bb-e71d6bfc18cf",
   "metadata": {},
   "outputs": [
    {
     "data": {
      "text/html": [
       "<div>\n",
       "<style scoped>\n",
       "    .dataframe tbody tr th:only-of-type {\n",
       "        vertical-align: middle;\n",
       "    }\n",
       "\n",
       "    .dataframe tbody tr th {\n",
       "        vertical-align: top;\n",
       "    }\n",
       "\n",
       "    .dataframe thead th {\n",
       "        text-align: right;\n",
       "    }\n",
       "</style>\n",
       "<table border=\"1\" class=\"dataframe\">\n",
       "  <thead>\n",
       "    <tr style=\"text-align: right;\">\n",
       "      <th></th>\n",
       "      <th>date_enrolled</th>\n",
       "      <th>dob</th>\n",
       "      <th>date_visit_b</th>\n",
       "      <th>date_blood_b</th>\n",
       "      <th>date_supplement_dispensed</th>\n",
       "      <th>date_visit_1</th>\n",
       "      <th>admission_date_1</th>\n",
       "      <th>discharge_date_1</th>\n",
       "      <th>date_death_1</th>\n",
       "      <th>date_visit_2</th>\n",
       "      <th>...</th>\n",
       "      <th>compliance_3</th>\n",
       "      <th>hospit_3</th>\n",
       "      <th>cause_hosp_3</th>\n",
       "      <th>discharge_summary_3</th>\n",
       "      <th>death_3</th>\n",
       "      <th>cause_death_3</th>\n",
       "      <th>complete_study</th>\n",
       "      <th>withdraw_reason</th>\n",
       "      <th>first_name</th>\n",
       "      <th>last_name</th>\n",
       "    </tr>\n",
       "  </thead>\n",
       "  <tbody>\n",
       "    <tr>\n",
       "      <th>0</th>\n",
       "      <td>2007-06-25</td>\n",
       "      <td>2007-06-25</td>\n",
       "      <td>2007-06-25</td>\n",
       "      <td>2007-06-25</td>\n",
       "      <td>2007-06-25</td>\n",
       "      <td>2007-06-25</td>\n",
       "      <td>2007-06-25</td>\n",
       "      <td>2007-06-25</td>\n",
       "      <td>2007-06-25</td>\n",
       "      <td>2007-06-25</td>\n",
       "      <td>...</td>\n",
       "      <td>3</td>\n",
       "      <td>1</td>\n",
       "      <td>2</td>\n",
       "      <td>1</td>\n",
       "      <td>0</td>\n",
       "      <td>1</td>\n",
       "      <td>1</td>\n",
       "      <td>0</td>\n",
       "      <td>justice</td>\n",
       "      <td>smith</td>\n",
       "    </tr>\n",
       "    <tr>\n",
       "      <th>1</th>\n",
       "      <td>2007-02-20</td>\n",
       "      <td>2007-02-20</td>\n",
       "      <td>2007-02-20</td>\n",
       "      <td>2007-02-20</td>\n",
       "      <td>2007-02-20</td>\n",
       "      <td>2007-02-20</td>\n",
       "      <td>2007-02-20</td>\n",
       "      <td>2007-02-20</td>\n",
       "      <td>2007-02-20</td>\n",
       "      <td>2007-02-20</td>\n",
       "      <td>...</td>\n",
       "      <td>4</td>\n",
       "      <td>1</td>\n",
       "      <td>2</td>\n",
       "      <td>1</td>\n",
       "      <td>0</td>\n",
       "      <td>2</td>\n",
       "      <td>0</td>\n",
       "      <td>2</td>\n",
       "      <td>justice</td>\n",
       "      <td>smith</td>\n",
       "    </tr>\n",
       "    <tr>\n",
       "      <th>2</th>\n",
       "      <td>2004-07-11</td>\n",
       "      <td>2004-07-11</td>\n",
       "      <td>2004-07-11</td>\n",
       "      <td>2004-07-11</td>\n",
       "      <td>2004-07-11</td>\n",
       "      <td>2004-07-11</td>\n",
       "      <td>2004-07-11</td>\n",
       "      <td>2004-07-11</td>\n",
       "      <td>2004-07-11</td>\n",
       "      <td>2004-07-11</td>\n",
       "      <td>...</td>\n",
       "      <td>3</td>\n",
       "      <td>0</td>\n",
       "      <td>2</td>\n",
       "      <td>0</td>\n",
       "      <td>1</td>\n",
       "      <td>2</td>\n",
       "      <td>0</td>\n",
       "      <td>1</td>\n",
       "      <td>justice</td>\n",
       "      <td>smith</td>\n",
       "    </tr>\n",
       "    <tr>\n",
       "      <th>3</th>\n",
       "      <td>2008-12-08</td>\n",
       "      <td>2008-12-08</td>\n",
       "      <td>2008-12-08</td>\n",
       "      <td>2008-12-08</td>\n",
       "      <td>2008-12-08</td>\n",
       "      <td>2008-12-08</td>\n",
       "      <td>2008-12-08</td>\n",
       "      <td>2008-12-08</td>\n",
       "      <td>2008-12-08</td>\n",
       "      <td>2008-12-08</td>\n",
       "      <td>...</td>\n",
       "      <td>1</td>\n",
       "      <td>0</td>\n",
       "      <td>1</td>\n",
       "      <td>0</td>\n",
       "      <td>1</td>\n",
       "      <td>2</td>\n",
       "      <td>1</td>\n",
       "      <td>0</td>\n",
       "      <td>justice</td>\n",
       "      <td>smith</td>\n",
       "    </tr>\n",
       "    <tr>\n",
       "      <th>4</th>\n",
       "      <td>2013-07-02</td>\n",
       "      <td>2013-07-02</td>\n",
       "      <td>2013-07-02</td>\n",
       "      <td>2013-07-02</td>\n",
       "      <td>2013-07-02</td>\n",
       "      <td>2013-07-02</td>\n",
       "      <td>2013-07-02</td>\n",
       "      <td>2013-07-02</td>\n",
       "      <td>2013-07-02</td>\n",
       "      <td>2013-07-02</td>\n",
       "      <td>...</td>\n",
       "      <td>1</td>\n",
       "      <td>0</td>\n",
       "      <td>3</td>\n",
       "      <td>0</td>\n",
       "      <td>1</td>\n",
       "      <td>2</td>\n",
       "      <td>1</td>\n",
       "      <td>2</td>\n",
       "      <td>justice</td>\n",
       "      <td>smith</td>\n",
       "    </tr>\n",
       "    <tr>\n",
       "      <th>5</th>\n",
       "      <td>2013-04-21</td>\n",
       "      <td>2013-04-21</td>\n",
       "      <td>2013-04-21</td>\n",
       "      <td>2013-04-21</td>\n",
       "      <td>2013-04-21</td>\n",
       "      <td>2013-04-21</td>\n",
       "      <td>2013-04-21</td>\n",
       "      <td>2013-04-21</td>\n",
       "      <td>2013-04-21</td>\n",
       "      <td>2013-04-21</td>\n",
       "      <td>...</td>\n",
       "      <td>2</td>\n",
       "      <td>1</td>\n",
       "      <td>1</td>\n",
       "      <td>0</td>\n",
       "      <td>0</td>\n",
       "      <td>1</td>\n",
       "      <td>1</td>\n",
       "      <td>4</td>\n",
       "      <td>justice</td>\n",
       "      <td>smith</td>\n",
       "    </tr>\n",
       "    <tr>\n",
       "      <th>6</th>\n",
       "      <td>2015-12-15</td>\n",
       "      <td>2015-12-15</td>\n",
       "      <td>2015-12-15</td>\n",
       "      <td>2015-12-15</td>\n",
       "      <td>2015-12-15</td>\n",
       "      <td>2015-12-15</td>\n",
       "      <td>2015-12-15</td>\n",
       "      <td>2015-12-15</td>\n",
       "      <td>2015-12-15</td>\n",
       "      <td>2015-12-15</td>\n",
       "      <td>...</td>\n",
       "      <td>1</td>\n",
       "      <td>1</td>\n",
       "      <td>2</td>\n",
       "      <td>1</td>\n",
       "      <td>0</td>\n",
       "      <td>2</td>\n",
       "      <td>1</td>\n",
       "      <td>1</td>\n",
       "      <td>justice</td>\n",
       "      <td>smith</td>\n",
       "    </tr>\n",
       "    <tr>\n",
       "      <th>7</th>\n",
       "      <td>2020-08-10</td>\n",
       "      <td>2020-08-10</td>\n",
       "      <td>2020-08-10</td>\n",
       "      <td>2020-08-10</td>\n",
       "      <td>2020-08-10</td>\n",
       "      <td>2020-08-10</td>\n",
       "      <td>2020-08-10</td>\n",
       "      <td>2020-08-10</td>\n",
       "      <td>2020-08-10</td>\n",
       "      <td>2020-08-10</td>\n",
       "      <td>...</td>\n",
       "      <td>1</td>\n",
       "      <td>1</td>\n",
       "      <td>3</td>\n",
       "      <td>0</td>\n",
       "      <td>0</td>\n",
       "      <td>1</td>\n",
       "      <td>1</td>\n",
       "      <td>4</td>\n",
       "      <td>justice</td>\n",
       "      <td>smith</td>\n",
       "    </tr>\n",
       "    <tr>\n",
       "      <th>8</th>\n",
       "      <td>2002-10-30</td>\n",
       "      <td>2002-10-30</td>\n",
       "      <td>2002-10-30</td>\n",
       "      <td>2002-10-30</td>\n",
       "      <td>2002-10-30</td>\n",
       "      <td>2002-10-30</td>\n",
       "      <td>2002-10-30</td>\n",
       "      <td>2002-10-30</td>\n",
       "      <td>2002-10-30</td>\n",
       "      <td>2002-10-30</td>\n",
       "      <td>...</td>\n",
       "      <td>2</td>\n",
       "      <td>1</td>\n",
       "      <td>2</td>\n",
       "      <td>0</td>\n",
       "      <td>1</td>\n",
       "      <td>1</td>\n",
       "      <td>0</td>\n",
       "      <td>4</td>\n",
       "      <td>justice</td>\n",
       "      <td>smith</td>\n",
       "    </tr>\n",
       "    <tr>\n",
       "      <th>9</th>\n",
       "      <td>2021-08-09</td>\n",
       "      <td>2021-08-09</td>\n",
       "      <td>2021-08-09</td>\n",
       "      <td>2021-08-09</td>\n",
       "      <td>2021-08-09</td>\n",
       "      <td>2021-08-09</td>\n",
       "      <td>2021-08-09</td>\n",
       "      <td>2021-08-09</td>\n",
       "      <td>2021-08-09</td>\n",
       "      <td>2021-08-09</td>\n",
       "      <td>...</td>\n",
       "      <td>3</td>\n",
       "      <td>1</td>\n",
       "      <td>2</td>\n",
       "      <td>1</td>\n",
       "      <td>1</td>\n",
       "      <td>1</td>\n",
       "      <td>1</td>\n",
       "      <td>2</td>\n",
       "      <td>justice</td>\n",
       "      <td>smith</td>\n",
       "    </tr>\n",
       "  </tbody>\n",
       "</table>\n",
       "<p>10 rows × 57 columns</p>\n",
       "</div>"
      ],
      "text/plain": [
       "  date_enrolled        dob date_visit_b date_blood_b  \\\n",
       "0    2007-06-25 2007-06-25   2007-06-25   2007-06-25   \n",
       "1    2007-02-20 2007-02-20   2007-02-20   2007-02-20   \n",
       "2    2004-07-11 2004-07-11   2004-07-11   2004-07-11   \n",
       "3    2008-12-08 2008-12-08   2008-12-08   2008-12-08   \n",
       "4    2013-07-02 2013-07-02   2013-07-02   2013-07-02   \n",
       "5    2013-04-21 2013-04-21   2013-04-21   2013-04-21   \n",
       "6    2015-12-15 2015-12-15   2015-12-15   2015-12-15   \n",
       "7    2020-08-10 2020-08-10   2020-08-10   2020-08-10   \n",
       "8    2002-10-30 2002-10-30   2002-10-30   2002-10-30   \n",
       "9    2021-08-09 2021-08-09   2021-08-09   2021-08-09   \n",
       "\n",
       "  date_supplement_dispensed date_visit_1 admission_date_1 discharge_date_1  \\\n",
       "0                2007-06-25   2007-06-25       2007-06-25       2007-06-25   \n",
       "1                2007-02-20   2007-02-20       2007-02-20       2007-02-20   \n",
       "2                2004-07-11   2004-07-11       2004-07-11       2004-07-11   \n",
       "3                2008-12-08   2008-12-08       2008-12-08       2008-12-08   \n",
       "4                2013-07-02   2013-07-02       2013-07-02       2013-07-02   \n",
       "5                2013-04-21   2013-04-21       2013-04-21       2013-04-21   \n",
       "6                2015-12-15   2015-12-15       2015-12-15       2015-12-15   \n",
       "7                2020-08-10   2020-08-10       2020-08-10       2020-08-10   \n",
       "8                2002-10-30   2002-10-30       2002-10-30       2002-10-30   \n",
       "9                2021-08-09   2021-08-09       2021-08-09       2021-08-09   \n",
       "\n",
       "  date_death_1 date_visit_2  ... compliance_3 hospit_3 cause_hosp_3  \\\n",
       "0   2007-06-25   2007-06-25  ...            3        1            2   \n",
       "1   2007-02-20   2007-02-20  ...            4        1            2   \n",
       "2   2004-07-11   2004-07-11  ...            3        0            2   \n",
       "3   2008-12-08   2008-12-08  ...            1        0            1   \n",
       "4   2013-07-02   2013-07-02  ...            1        0            3   \n",
       "5   2013-04-21   2013-04-21  ...            2        1            1   \n",
       "6   2015-12-15   2015-12-15  ...            1        1            2   \n",
       "7   2020-08-10   2020-08-10  ...            1        1            3   \n",
       "8   2002-10-30   2002-10-30  ...            2        1            2   \n",
       "9   2021-08-09   2021-08-09  ...            3        1            2   \n",
       "\n",
       "  discharge_summary_3 death_3 cause_death_3 complete_study withdraw_reason  \\\n",
       "0                   1       0             1              1               0   \n",
       "1                   1       0             2              0               2   \n",
       "2                   0       1             2              0               1   \n",
       "3                   0       1             2              1               0   \n",
       "4                   0       1             2              1               2   \n",
       "5                   0       0             1              1               4   \n",
       "6                   1       0             2              1               1   \n",
       "7                   0       0             1              1               4   \n",
       "8                   0       1             1              0               4   \n",
       "9                   1       1             1              1               2   \n",
       "\n",
       "  first_name last_name  \n",
       "0    justice     smith  \n",
       "1    justice     smith  \n",
       "2    justice     smith  \n",
       "3    justice     smith  \n",
       "4    justice     smith  \n",
       "5    justice     smith  \n",
       "6    justice     smith  \n",
       "7    justice     smith  \n",
       "8    justice     smith  \n",
       "9    justice     smith  \n",
       "\n",
       "[10 rows x 57 columns]"
      ]
     },
     "execution_count": 37,
     "metadata": {},
     "output_type": "execute_result"
    }
   ],
   "source": [
    "df_10"
   ]
  },
  {
   "cell_type": "code",
   "execution_count": 35,
   "id": "31d2aede-8027-4aee-bef2-b185ae3c149b",
   "metadata": {},
   "outputs": [],
   "source": [
    "import redcap\n",
    "project = redcap.Project(qa_api_url, qa_pid49)"
   ]
  },
  {
   "cell_type": "code",
   "execution_count": 36,
   "id": "17220909-8b00-410b-8c43-1b2b8e58b38b",
   "metadata": {},
   "outputs": [
    {
     "name": "stdout",
     "output_type": "stream",
     "text": [
      "Wall time: 6.6 s\n"
     ]
    },
    {
     "data": {
      "text/plain": [
       "{'count': 10}"
      ]
     },
     "execution_count": 36,
     "metadata": {},
     "output_type": "execute_result"
    }
   ],
   "source": [
    "%%time\n",
    "response = project.import_records(df_10, force_auto_number=True)\n",
    "response"
   ]
  },
  {
   "cell_type": "code",
   "execution_count": 26,
   "id": "8e4fc7b2-67ab-49b7-8d24-33472a6e25ec",
   "metadata": {},
   "outputs": [],
   "source": [
    "\n",
    "def funct1():\n",
    "    for i in [1,2,3,4]:\n",
    "        print(i)"
   ]
  },
  {
   "cell_type": "code",
   "execution_count": 29,
   "id": "93e9ee97-909a-4974-90d2-21fc06ae3bfe",
   "metadata": {},
   "outputs": [
    {
     "name": "stdout",
     "output_type": "stream",
     "text": [
      "1\n",
      "2\n",
      "3\n",
      "4\n",
      "Wall time: 999 µs\n"
     ]
    }
   ],
   "source": [
    "%%time\n",
    "funct1()"
   ]
  },
  {
   "cell_type": "code",
   "execution_count": null,
   "id": "1b49b2c4-e871-4915-b9a4-134fa28688fd",
   "metadata": {},
   "outputs": [],
   "source": []
  },
  {
   "cell_type": "markdown",
   "id": "0fa23eea-5711-4ec7-9869-2c12ffd9e778",
   "metadata": {},
   "source": [
    "# Creating random string for remaining columns"
   ]
  },
  {
   "cell_type": "code",
   "execution_count": null,
   "id": "af78c92a-25bf-4cb5-956e-a9a322cc913f",
   "metadata": {},
   "outputs": [],
   "source": []
  },
  {
   "cell_type": "code",
   "execution_count": null,
   "id": "5c347080-ffbc-4fa8-bce7-751f4124ec24",
   "metadata": {},
   "outputs": [],
   "source": []
  },
  {
   "cell_type": "markdown",
   "id": "1a192d97-c7a8-4b41-9698-242dd9e80b1b",
   "metadata": {},
   "source": [
    "# attempt to import single row of dates and selection fields\n"
   ]
  },
  {
   "cell_type": "code",
   "execution_count": null,
   "id": "7bb15c39-dffa-4c61-99f7-5e2a43885836",
   "metadata": {},
   "outputs": [],
   "source": [
    "df_qa"
   ]
  },
  {
   "cell_type": "code",
   "execution_count": null,
   "id": "ebd67fb1-3258-41ff-89bc-36a3d1a2ad78",
   "metadata": {},
   "outputs": [],
   "source": [
    "#adding selection fields\n",
    "df_selection = pd.DataFrame(selection_columns_100)\n",
    "df_qa.loc[1, df_selection.columns] = df_selection.loc[0,:]"
   ]
  },
  {
   "cell_type": "code",
   "execution_count": null,
   "id": "468b6b62-e638-4c30-a74a-87eb01da19c5",
   "metadata": {},
   "outputs": [],
   "source": [
    "#adding date fields\n",
    "df_date = pd.DataFrame(date_dict100)\n",
    "\n",
    "#convert to redcap format\n",
    "for i in df_date:\n",
    "    df_date[i] =  df_date[i].dt.strftime('%Y-%m-%d')\n",
    "df_qa.loc[1, df_date.columns] = df_date.loc[0,:]"
   ]
  },
  {
   "cell_type": "code",
   "execution_count": null,
   "id": "54281d3d",
   "metadata": {},
   "outputs": [],
   "source": [
    "text_fields = ['first_name', 'last_name']"
   ]
  },
  {
   "cell_type": "code",
   "execution_count": null,
   "id": "cb00ac41",
   "metadata": {},
   "outputs": [],
   "source": [
    "text2_dict = {i:\"abcdef\" for i in text_fields}\n",
    "df_text2 = pd.DataFrame(text2_dict, index = [0])\n",
    "\n",
    "df_qa.loc[1,df_text2.columns] = df_text2.loc[0,:]"
   ]
  },
  {
   "cell_type": "code",
   "execution_count": null,
   "id": "188b4064",
   "metadata": {},
   "outputs": [],
   "source": [
    "df_qa"
   ]
  },
  {
   "cell_type": "code",
   "execution_count": null,
   "id": "a3a6a65f",
   "metadata": {},
   "outputs": [],
   "source": [
    "df_qa[\"study_id\"] = [1,2]\n",
    "\n",
    "df_qa"
   ]
  },
  {
   "cell_type": "code",
   "execution_count": null,
   "id": "70e03271-36a7-4424-91c1-e93c7a2d0e70",
   "metadata": {},
   "outputs": [],
   "source": [
    "#Connecting to PID171\n",
    "import redcap\n",
    "project = redcap.Project(qa_api_url, qa_pid49)\n",
    "\n",
    "response = project.import_records(df_qa, force_auto_number=False)\n",
    "response"
   ]
  },
  {
   "cell_type": "code",
   "execution_count": null,
   "id": "94a50674-29ce-45bc-b924-699cff08a640",
   "metadata": {},
   "outputs": [],
   "source": []
  },
  {
   "cell_type": "markdown",
   "id": "e43d74ab",
   "metadata": {},
   "source": [
    "# Attempting delete records via API"
   ]
  },
  {
   "cell_type": "code",
   "execution_count": null,
   "id": "4fd2318f",
   "metadata": {},
   "outputs": [],
   "source": [
    "\"\"\"\n",
    "all data API request\n",
    "\"\"\"\n",
    "\n",
    "fields = {\n",
    "    'token': qa_pid49,\n",
    "    'content': 'record',\n",
    "    'action': \"delete\",\n",
    "    \"records[0]\": \"[1,2]\"}\n",
    "\n",
    "r = requests.post(qa_api_url, data=fields)\n",
    "\n",
    "#df = pd.read_csv(io.StringIO(r.content.decode(\"utf-8\")), index_col=0)\n"
   ]
  },
  {
   "cell_type": "code",
   "execution_count": null,
   "id": "95871982",
   "metadata": {},
   "outputs": [],
   "source": [
    "r"
   ]
  },
  {
   "cell_type": "code",
   "execution_count": null,
   "id": "1b6b749f",
   "metadata": {},
   "outputs": [],
   "source": []
  }
 ],
 "metadata": {
  "kernelspec": {
   "display_name": "Python [conda env:transform21] *",
   "language": "python",
   "name": "conda-env-transform21-py"
  },
  "language_info": {
   "codemirror_mode": {
    "name": "ipython",
    "version": 3
   },
   "file_extension": ".py",
   "mimetype": "text/x-python",
   "name": "python",
   "nbconvert_exporter": "python",
   "pygments_lexer": "ipython3",
   "version": "3.8.10"
  }
 },
 "nbformat": 4,
 "nbformat_minor": 5
}
